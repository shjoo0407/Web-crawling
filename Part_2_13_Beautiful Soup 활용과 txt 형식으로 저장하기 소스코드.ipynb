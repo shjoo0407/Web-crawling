{
 "cells": [
  {
   "cell_type": "code",
   "execution_count": null,
   "metadata": {},
   "outputs": [],
   "source": [
    "#Beautiful Soup 예제 1\n",
    "from bs4 import BeautifulSoup\n",
    "ex1 = '''\n",
    "<html>\n",
    "    <head>\n",
    "        <title> HTML 연습 </title>\n",
    "    </head>\n",
    "    <body>\n",
    "        <p align=\"center\"> text 1 </p>\n",
    "        <img src=\"c:\\\\temp\\\\image\\\\솔개.png\">\n",
    "    </body>\n",
    "<html> '''\n",
    "\n",
    "soup = BeautifulSoup(ex1, 'html.parser')\n",
    "print( soup.find('title') )\n",
    "print( soup.find('p') )"
   ]
  },
  {
   "cell_type": "code",
   "execution_count": null,
   "metadata": {},
   "outputs": [],
   "source": [
    "#Beautiful Soup 예제 2\n",
    "from bs4 import BeautifulSoup\n",
    "ex1 = '''\n",
    "<html>\n",
    "    <head>\n",
    "        <title> HTML 연습 </title>\n",
    "    </head>\n",
    "    <body>\n",
    "        <p align=\"center\"> text 1 </p>\n",
    "        <p align=\"right\"> text 2 </p>\n",
    "        <p align=\"left\"> text 3 </p>\n",
    "        <img src=\"c:\\\\temp\\\\image\\\\솔개.png\">\n",
    "    </body>\n",
    "<html> '''\n",
    "\n",
    "soup = BeautifulSoup(ex1, 'html.parser')\n",
    "print( soup.find('p') )\n",
    "print( soup.find('p',align=\"right\") )"
   ]
  },
  {
   "cell_type": "code",
   "execution_count": null,
   "metadata": {},
   "outputs": [],
   "source": [
    "#Beautiful Soup 예제 3\n",
    "from bs4 import BeautifulSoup\n",
    "ex1 = '''\n",
    "<html>\n",
    "    <head>\n",
    "        <title> HTML 연습 </title>\n",
    "    </head>\n",
    "    <body>\n",
    "        <p align=\"center\"> text 1 </p>\n",
    "        <p align=\"center\"> text 2 </p>\n",
    "        <p align=\"center\"> text 3 </p>\n",
    "        <img src=\"c:\\\\temp\\\\image\\\\솔개.png\">\n",
    "    </body>\n",
    "<html> '''\n",
    "\n",
    "soup = BeautifulSoup(ex1, 'html.parser')\n",
    "print( soup.find('p') )"
   ]
  },
  {
   "cell_type": "code",
   "execution_count": null,
   "metadata": {},
   "outputs": [],
   "source": [
    "print( soup.find_all('p') )\n",
    "print( soup.find_all('p')[0] )\n",
    "print( soup.find_all('p')[1] )\n",
    "print( soup.find_all('p')[2] )"
   ]
  },
  {
   "cell_type": "code",
   "execution_count": null,
   "metadata": {},
   "outputs": [],
   "source": [
    "#select( ) 함수 사용하기\n",
    "# 연습용 html 만들기\n",
    "ex2='''\n",
    "<html>\n",
    "    <head>\n",
    "        <h1> 사야할 과일\n",
    "    </head>\n",
    "    <body>\n",
    "        <h1> 시장가서 사야할 과일 목록\n",
    "            <div><p id='fruit1' class='name1' title='바나나'> 바나나\n",
    "                <span class='price'> 3000원 </span>\n",
    "                <span class='count'> 10개 </span>\n",
    "                <span class='store'> 바나나가게 </span>\n",
    "                <a href='https://www.banana.com'> banana.com </a>\n",
    "                </p>\n",
    "            </div>\n",
    "             <div><p id='fruit2' class='name2' title='체리'> 체리\n",
    "                <span class='price'> 100원 </span>\n",
    "                <span class='count'> 50개 </span>\n",
    "                <span class='store'> 체리가게 </span>\n",
    "                <a href='https://www.cherry.com'> cherry.com </a>\n",
    "                </p>\n",
    "            </div>\n",
    "             <div><p id='fruit3' class='name3' title='오렌지'> 오렌지\n",
    "                <span class='price'> 500원 </span>\n",
    "                <span class='count'> 20개 </span>\n",
    "                <span class='store'> 오렌지가게 </span>\n",
    "                <a href='https://www.orange.com'> banana.com </a>\n",
    "                </p>\n",
    "            </div>\n",
    "        </body>\n",
    "    </html> '''           "
   ]
  },
  {
   "cell_type": "code",
   "execution_count": null,
   "metadata": {},
   "outputs": [],
   "source": [
    "# select('태그이름')\n",
    "soup2 = BeautifulSoup(ex2 , 'html.parser')\n",
    "\n",
    "soup2.select('p')"
   ]
  },
  {
   "cell_type": "code",
   "execution_count": null,
   "metadata": {},
   "outputs": [],
   "source": [
    "#select(''.클래스이름')\n",
    "soup2.select(' .name1 ')"
   ]
  },
  {
   "cell_type": "code",
   "execution_count": null,
   "metadata": {},
   "outputs": [],
   "source": [
    "#select(‘ 상위태그 > 하위태그 > 하위태그‘ )\n",
    "soup2.select(' div > p > span')"
   ]
  },
  {
   "cell_type": "code",
   "execution_count": null,
   "metadata": {},
   "outputs": [],
   "source": [
    "#select(‘ 상위태그 > 하위태그 > 하위태그‘ )\n",
    "soup2.select(' div > p > span')[0]"
   ]
  },
  {
   "cell_type": "code",
   "execution_count": null,
   "metadata": {},
   "outputs": [],
   "source": [
    "#select(‘ 상위태그 > 하위태그 > 하위태그‘ )\n",
    "soup2.select(' div > p > span')[1]"
   ]
  },
  {
   "cell_type": "code",
   "execution_count": null,
   "metadata": {},
   "outputs": [],
   "source": [
    "#select(‘ 상위태그 > 하위태그 > 하위태그‘ )\n",
    "soup2.select(' div > p > span')[2]"
   ]
  },
  {
   "cell_type": "code",
   "execution_count": null,
   "metadata": {},
   "outputs": [],
   "source": [
    "# select(‘상위태그.클래스이름 > 하위태그.클래스이름’)\n",
    "soup2.select(' p.name1 > span.store ')"
   ]
  },
  {
   "cell_type": "code",
   "execution_count": null,
   "metadata": {},
   "outputs": [],
   "source": [
    "# select(‘#아이디명”)\n",
    "soup2.select(' #fruit1')"
   ]
  },
  {
   "cell_type": "code",
   "execution_count": null,
   "metadata": {},
   "outputs": [],
   "source": [
    "# select(‘#아이디명 > 태그명.클래스명)\n",
    "soup2.select(' #fruit1 > span.store')"
   ]
  },
  {
   "cell_type": "code",
   "execution_count": null,
   "metadata": {},
   "outputs": [],
   "source": [
    "# select(‘태그명[속성1=값1]’)\n",
    "soup2.select('a[href]')"
   ]
  },
  {
   "cell_type": "code",
   "execution_count": null,
   "metadata": {},
   "outputs": [],
   "source": [
    "# select(‘태그명[속성1=값1]’)\n",
    "soup2.select('a[href]')[0]"
   ]
  },
  {
   "cell_type": "code",
   "execution_count": null,
   "metadata": {},
   "outputs": [],
   "source": [
    "# 태그 뒤의 텍스트만 추출하기 \n",
    "txt3 = soup2.find_all('p')\n",
    "for i in txt3 :\n",
    "    print(i.get_text().replace('\\n','') )"
   ]
  },
  {
   "cell_type": "code",
   "execution_count": null,
   "metadata": {},
   "outputs": [],
   "source": []
  },
  {
   "cell_type": "code",
   "execution_count": 1,
   "metadata": {},
   "outputs": [
    {
     "name": "stdout",
     "output_type": "stream",
     "text": [
      "====================================================================================================\n",
      " 이 크롤러는 riss 사이트의 논문 자료 수집용 웹크롤러입니다.\n",
      "====================================================================================================\n",
      "1.수집할 자료의 키워드는 무엇입니까?(예: 해양자원): 해양자원\n",
      "\n",
      "\n"
     ]
    }
   ],
   "source": [
    "#Chap 13. riss.kr 사이트에서 특정 키워드로 자동 검색하기\n",
    "\n",
    "#Step 1. 필요한 모듈을 로딩합니다\n",
    "from selenium import webdriver\n",
    "from selenium.webdriver.common.by import By\n",
    "from selenium.webdriver.common.keys import Keys\n",
    "from selenium.webdriver.chrome.service import Service\n",
    "import time          \n",
    "\n",
    "#Step 2. 사용자에게 검색 관련 정보들을 입력 받습니다.\n",
    "print(\"=\" *100)\n",
    "print(\" 이 크롤러는 riss 사이트의 논문 자료 수집용 웹크롤러입니다.\")\n",
    "print(\"=\" *100)\n",
    "query_txt = input('1.수집할 자료의 키워드는 무엇입니까?(예: 해양자원): ')\n",
    "print(\"\\n\")\n",
    "\n",
    "#Step 3. 크롬 드라이버 설정 및 웹 페이지 열기\n",
    "s = Service(\"c:/py_temp/chromedriver.exe\")\n",
    "driver = webdriver.Chrome(service=s)\n",
    "\n",
    "url = 'https://www.riss.kr/'\n",
    "driver.get(url)\n",
    "time.sleep(5)\n",
    "driver.maximize_window()\n",
    "\n",
    "#Step 4. 자동으로 검색어 입력 후 조회하기\n",
    "element = driver.find_element(By.ID,'query')\n",
    "driver.find_element(By.ID,'query').click( )\n",
    "element.send_keys(query_txt)\n",
    "element.send_keys(\"\\n\")\n",
    "\n",
    "#Step 5.학위 논문 선택하기\n",
    "driver.find_element(By.LINK_TEXT,'학위논문').click()\n",
    "time.sleep(2)"
   ]
  },
  {
   "cell_type": "code",
   "execution_count": 3,
   "metadata": {},
   "outputs": [
    {
     "name": "stdout",
     "output_type": "stream",
     "text": [
      "1   지속가능한 해양관광 발전방안에 대한 연구 : 관광자원개발을 중심으로  김선종 연세대학교 행정대학원 2008 국내석사  RANK : 13880191    원문보기  음성듣기             삼면이 바다로 둘러싸여 천혜의 해양국가인 우리나라는 세계적 수준의 자연관광자원을 보유하고 있으며 연안을 중심으로 관광활동에 좋은 지형적 지리적 조건을 갖추고 있다. 특히, 우리나라 해안은 지형 및 지세, 기상 등 자원특성이 서로 달라 각 해안별로 독특한 자연조건을 갖고 있어 해양관광발전 잠재력이 매우 크다. 수질이 깨끗하고 백사장이 잘 발달된 동해안은 해수욕에 유리하고, 수심이 낮고 갯벌이 발달된 서해안은 생태관광의 보고이며, 기후가 온난하고 호수와 같은 잔잔한 내해를 이루고 있는 남해안은 스포츠형관광의 최적의 자연자원을 보유하고 있다.바다와 육지가 맞닿아 서로 밀접한 영향을 주고받으면서 특수한 자원?환경시스템을 이루는 연안(沿岸)은 해변?갯벌?만?삼각주 등 다양한 모습을 보이고 있으며, 그동안 수산물의 산란장과 서식지로서 항만?임해공단 등 경제활동공간으로서 도시가 발달하고 인구가 집중되어있는 중요한 활동공간이었으나, 이제는 레저스포츠 등 관광활동공간으로서 그 중요성이 더해가고 있다.우리나라는 우수한 자연관광자원을 보유하고 있으나 그동안 육상위주의 레저 및 관광정책추진으로 해양관광은 크게 발전하지 못하고 있다. 그러나 국민들의 소득수준 증가와 더불어 주2일 휴무제 정착에 따른 여가시간의 증대 등 라이프스타일 변화로 직접체험을 즐길 수 있는 해양레저스포츠 등 관광수요는 크게 증가할 것으로 보인다.이러한 좋은 여건에도 불구하고 자치단체에서는 사전 타당성 검토가 부족한 대단위 관광단지 위주의 개발계획들만을 경쟁적으로 추진하고 있어 증가하고 있는 해양관광수요에는 효과적으로 대응하지 못하는 문제점을 노출하고 있다. 따라서 우수한 자연자원을 효과적으로 활용하고, 새로운 해양관광수요를 수용하고 발전시킬 수 있는 활성화대책 마련이 긴요한 실정이다.육지관광과는 달리 해양에서의 관광활동은 안전에 대한 관심뿐만이 아니라 환경에 대한 검토도 충분히 이루어져야만 좋은 관광환경이 조성될 수 있다. 특히, 자치단체별로 관광자원개발계획 추진시 이에 대한 SWOT분석을 이행하고 있으나 대부분 최적의 조건만을 생각하고 이를 검토하여 결국은 사업추진 원동력이 떨어지고 있다. 해양관광도 육상과 동일하게 취급되어져 특색을 갖추지 않고 차별화되지 못한 자원개발이 되고 있어 최근 많은 수요발생에도 효과적으로 대응하지 못하고 있는 실정이다.따라서 우리나라 연안?해양에서의 해양관광발전을 위해 추진하고 있는 관광자원개발 사업에 대한 정책적 문제점을 살펴보고 해양관광자원개발 사업에 대한 SWOT를 제시하여 해양관광 활성활를 위한 바람직한 정책적 방안을 제시하였다.\n",
      "\n",
      "\n",
      "원문보기\n",
      "\n",
      "\n",
      "음성듣기\n",
      "\n",
      "\n",
      "2   島嶼觀光資源開發이 海洋觀光産業에 미치는 經濟的 波及效果  김두성 부산대학교 2012 국내박사  RANK : 13880191    원문보기 목차검색조회  음성듣기             본 연구에서는 부산 해역 무인도서가 갖고 있는 해양자원개발을 통하여 지역경제활성화의 한 축으로 편입시켜야 할 것으로 판단하였다. 이는 지구상에 남아 있는 마지막 자원의 보고인 해양을 둘러싼 글로벌화 경쟁이 가속화하는 시점으로 도서의 관광자원개발은 지역개발에 있어 새로운 관광산업 형태로 부상하고 있기 때문이다(김영준, 2011). 이러한 흐름은 국외는 물론 국내의 남해안, 서해안을 중심으로 도서개발을 통한 해양관광자원개발 사업 추진으로 지역에 미치는 경제파급효과는 매우 높게 나타나고 있다. 부산지역의 경우 도서 자체의 인접성ㆍ격절성ㆍ과소성 등에 있어 취약성 때문에 대량 관광객 유인에 한계가 있을 것으로 판단하여 내륙의 관광개발 보다는 소외된 것이 사실이다. 따라서 지역 도서들이 갖고 있는 잠재 해양자원을 개발하여 새로운 도서관광산업을 육성하는 것이 매우 중요하다. 이러한 관점에서 본 연구에서는 해양관광자원개발 관광콘텐츠 개발을 제안하였고 크게 3개 권역을 묶어 도서관광벨트화라는  큰 프레임을 구축하였다. 아울러 이들 3개 권역 도서들이 갖고 있는 해양자원은 관광상품으로 재생산될 수 있는 여건(환경)을 충분히 갖추고 있는 것으로 판단하였다.   실제로 실증분석결과 본 사업의 지역해양관광산업에 대한 기여효과는 해수욕장 사업을 제외한 기타 해양관광산업에 미치는 경제적 파급효과는 높게 나타났으며, 전후방연쇄효과 측정 결과 또한 연관산업에 미치는 파급효과가 비교적 높은 것으로 분석되었다. 세부 산업별로 운수 및 보관업(1.9124), 음식점 및 숙박업(1.7732), 사회 및 기타서비스업(1.1254)종의 경우 산업의 후방연쇄효과를 나타내는 영향력계수 높게 나타난다. 아울러 전방연쇄효과를 나타내는 감응도계수 또한 비교적 높은 수치를 보이고 있어서 일반 서비스업 및 제조업과 비교할 때 산업에 미치는 영향력이 큰 것으로 볼 수 있다.  한편, 도서관광인프라구축 시설 투자에 따른 지역경제파급효과 분석결과 부가가치유발효과 및 고용유발효과는 기본적으로 생산유발효과의 크기에 연동되는 것으로 나타났지만 지역별로 다소 차이를 보였다. 이는 부산지역에 미치는 산업별 경제적 유발효과는 주로 직접 투자지출 산업에서 크게 발생하였고 여타 산업에는 미미한 효과를 미친다는 점으로 지역의 경우 건설업을 제외하고 상대적으로 큰 영향을 받는 건설 중간재 생산 제조업의 경우도 전체 산업에서 차지하는 비중이 낮은 산업구조를 띠고 있다는 점을 알 수 있다.  또한 지역별로 사업투자 비용의 상대적 이입율이 낮은 서울의 경우 생산유발액이 높게 나타나고 있어서 공사의 설계, 감리 및 전자기기 등의 고부가가치 산업이 수도권에 집중되어 있음을 확인할 수 있었다. 그러나 분석 결과 전체적으로 총산출, 부가가치 및 생산유발, 부가가치유발, 고용유발효과 측면에서 당장에 지역에 미치는 영향력이 기대하는 만큼의 경제적 효과를 가져다 주지는 않지만 이러한 측정 결과는 향후 해양관광수요의 증대와 더불어 높은 관광수입의 창출로 동 산업은 물론 지역경제에 미치는 파급효과는 매우 높아질 것이라는 예측이 가능하다.  이러한 관점에서 해양관광산업은 미래 성장동력산업으로 인식되고 있어 그 시장 규모가 날로 확대되어갈 것이며, 부산의 경우 우수한 해양관광자원을 보유하고 있는 지역으로 이들 자원을 활용한 새로운 관광콘텐츠 개발에 많은 에너지를 투입하여야 하고 동 산업의 육성을 위하여 지역의 환경적 특성과 산업적 특성이 동시에 고려된 고부가가치산업으로의 성장 전략이 필요하다. 아울러 지역 차원의 산업구조 개편전략을 구체적으로 수립하는 과정에서 해당 산업의 경제적 파급효과는 주요한 판단 기준이 됨으로 도서관광자원개발 사업에 대한 정확한 파급효과 분석은 중요한 의미를 갖는다. This study is undertaken for economic effects of marine tourism resources through the development of islands on the region on the basis of reviewing the characteristics and development of islands scheme of marine resource in the islands for each coastal territory around Busan and its outcome of analysis thereof. For its details, such effort is considered to transfer into part of regional economy facilitation through the development of unlimited marine resource available in uninhabited islands in the coastal area of Busan. And by developing the urban tourism industry with certain theme, it is expected to bring the regional economy facilitation. Under this point of view, this study has proposed strategy for marine tourism resource by combining the three major regions to structure a larger frame in building up the “Busan Maritime Tourism Belt”.   The marine resource available in these 3 regional islands are sufficiently equipped with the conditions to be reproduced as tourism product and presented the tourism resource plan on potential marine resource. In addition, as a result of empirical analysis of economic dispersion effect of this project, it is known to generate higher economic effect than other service industry, manufacturing industry and others on a long-term basis. On the other hand, the trend of domestic and overseas tourism industry development is to realize the high added-value industrialization by facilitating natural resources, marine resource, history and cultural resources in the island areas and discover that it could be developed into new growth industry in the regional level in discovering diverse themes in resort, experience and things to see by facilitating the marine resource in islands. In addition, following the improvement of quality of life and facilitation of marine resource and water leisure life for people, there is phenomenon with higher value for facilitation in the island areas, and along with the trend, the trend shows to have the continuous expansion of demand for tourism to prefer island tourism compared to the land tourism with the expansion of maritime tourism infra. Therefore, this is the reason to paying attention to marine tourism industry as new growth paradigm facilitating island resources by breaking away from existing tourism pattern that is depended on qualitative investment on inland tourism.   In addition, in the process of establishing industrial structure revision strategy of regional level in details, the economic effect in the applicable industry is one of the important decision making criteria that the accurate analysis of dispersion effect on the marine tourism industry has important implications. Under this context, as a result of analyzing the economic effect from this project,, it does not bring the economic effect that would fulfill the expectation for the regions immediately in formulation, added-value and production stimulation, added-value stimulation and employment stimulation aspects, but it shows to bring high economic effect comparing to other service industry, manufacturing industry and others for each industrial fields on long-term basis.      Therefore, in order to maximize the economic effect of neo-marine tourism industry through the development of islands, it is important to consider the effect for each related industry and regional economic industry. Furthermore, through undertaking this project, the economic environment structure has to be structured as appropriate to generate synergy effect of related industries and seeking for high added-value industrial diversification for the regional level. Under the globalized economic system, countries have invested significant energies into developing marine tourism industry as the neo-growth engine industry for national economic facilitation. In particular, such industrial activities by coastal countries around Mediterranean countries have been actively undertaken. This fact would have to be realized that it has the sufficient value as national economy-leading industry and commercialize the marine tourism resource of the region to improve regional economy facilitating, urban image making and identity of regional resident through marketing activities to inform the specialized marine resource for tourists who visit the areas.  However, in the event of the Busan area, the activity outcome or the scale of marine tourism industry that facilitated the marine resource is still insufficient compared to other island regions in western and southern coastal regions in Korea. Under this context, for the case of the Busan area, it lacks the clear growth engine industry together with the declination of manufacturing industry, and it requires more energy in development of marine tourism industry by facilitating the marine resource. In particular, the Busan area has naturally blessed tourism resource and location related to maritime use as it is referred to as the maritime capital. The Island Tourism Belt project that is connected of island areas for each of 3 regions to develop the industry as presented in this study would work as a new growth engine for regional economic facilitation in the Busan area as well as improving the resident income around the islands by discovering diverse themes of nature, ecology, history, culture and well-being for each island area, and such efficient facilitation of idle island resource would be a new turning point of island development policy.\n",
      "\n",
      "\n",
      "원문보기\n",
      "\n",
      "\n",
      "목차검색조회\n",
      "\n",
      "\n",
      "음성듣기\n",
      "\n",
      "\n",
      "3   여수지역 해양생물자원을 활용한 관광지 활성화에 관한 연구  권진구 전남대학교 대학원 2021 국내박사  RANK : 13880191    복사/대출신청\n",
      "\n",
      "\n",
      "복사/대출신청\n",
      "\n",
      "\n",
      "4   해양관광유형과 관광자원 가치가 주민참여의도에 미치는 영향 : 당진시를 중심으로  이길호 경기대학교 관광전문대학원 2014 국내박사  RANK : 13880191    원문보기 목차검색조회  음성듣기             21세기는 문화시대이자 창의적 산업시대이며 감성적 소통 시대이다. 최근 들어 국민소득 증대와 함께 생활수준이 향상되고 주 5일 근무 정착에 따른 여가시간 확대로 관광 및 레저에 대한 관심도가 증가하고 있으며 관광 패턴이 육지위주에서 해양위주로 변화하고 있다. 3면이 바다로 둘러 싸여있는 우리나라는 천혜의 해양관광자원 보고이며 축복받은 해양관광자원이 곳곳에 산재되어 있다. 따라서 해양관광자원을 개발위주의 근대 공간에서 탈피하고 장소성이 있는 공간으로 창출하여 관광자와 지역주민의 삶의 질을 높이는 한편, 자연과 환경을 보전하고 지역주민 경제적 활성화를 증대 시키는 일이 요구되고 있다. 따라서 지방자치제도 시행 이후 각 지자체들은 지역경제 활성화 방안으로 지역종합발전계획을 수립하고 더 많은 외래관광객 유입을 목표로 관광시책을 추진하고 있으나 지자체 관심과 의욕에 비하여 관광발전시책이 성공적이지 못한 사례가 여러 곳에서 나타나고 있는 현실이다. 그 원인의 대부분은 관광객 유인을 위한 방안으로 관주도의 일방적인 관광개발에 치중하여 새로운 관광지 조성을 위한 개발 사업에 주력해 왔기 때문이다. 이는 공급자 중심 시설개발에서 수요자 중심 관광만족도 제고를 위한 방법이 미흡한 것으로 해석된다. 따라서 관주도 관광자원 관리방식을 탈피하여 지자체와 관광전문가, 관광사업자, 그리고 지역주민과 협의 하에 보호, 보전, 개발의 관광자원 관리의 필요성이 중요시 되고 있다.우리나라는 육지면적의 3배가 넘는 34만 5,000㎢에 달하는 대륙붕과 수심 20m 내․외 해역도 국토 3분의 1에 해당하며, 11,542㎞에 달하는 해안선을 보유하고 있다. 또한 3,200여 개의 도서를 보유하고 있으며, 갯벌 면적은 남한 면적 2.5%에 달하는 2,815㎢로서 세계 5대 갯벌자원 중 하나를 소유하고 있다. 해양관광 자원은 해변, 해상, 해중, 해저 공간으로 구성되어 있으며 해양 공간별로 각각 특별한 환경을 갖추고 있으며 이용방법에 따라 다양한 관광형태의 자원을 보유하고 있다. 이러한 천혜의 조건에서 해양관광의 유형별 다양성을 고려하여 해양관광자원의 현명한 관리로 해양관광경쟁력을 제고시키고 해양관광 활성화를 통하여 지역발전과 생태․환경, 삶의 질 향상 등의 혜택을 누릴 수 있어야 한다. 또한 해양관광 유형 선호에 따라 보전, 보호, 개발 측면에서 자원을 관리하여 관광활성화 방안에 대하여 심사숙고하여 개발방향을 설정, 추진하여 지자체 여건에 적합한 차별화된 관광인프라 구축으로 경쟁력을 강화해 나갈 필요성이 강조되고 있다.수 년 전부터 정부와 각 지자체에서 활발하게 해양관광개발을 추진하고 있는 이유도 다양한 형태로 증가하고 있는 관광현상에 따라 정적인 형태의 보는 관광 위주에서 체험위주의 활동성이 강한 동적인 형태의 관광으로 변모해 가고 있는 현상에 따른 것이다.다수의 해양관광자원관리는 지자체의 무조건적인 독창성 없는 개발, 민자유치의 부진, 지역사회 파급효과의 미흡 등이 문제점으로 지적되고 있는 현실로 4계절 기후가 뚜렷한 우리나라의 여건에 맞는 지자체의 차별화된 관광자원관리로 발전적 방향 모색을 통하여 긍정적인 방안을 찾아야 할 것이다.본 연구는 충남 당진시의 해양관광유형 선호와 보유 해양관광자원의 가치인식에 따라 관광자원 관리방안 모색을 통한 관리방향 설정과 그에 따른 지역 주민에게 가져다주는 혜택과 주민참여의도에 대하여 당진시를 중심으로 분석하고 그 결과를 토대로 앞으로의 해양관광자원관리에 따른 해양관광 활성화 방안을 제시하고자 한다.\n",
      "\n",
      "\n",
      "원문보기\n",
      "\n",
      "\n",
      "목차검색조회\n",
      "\n",
      "\n",
      "음성듣기\n",
      "\n",
      "\n",
      "5   국가관할권 이원지역 해양유전자원의 접근 및 이익공유에 관한 연구  조은영 중앙대학교 대학원 2019 국내석사  RANK : 13880191    원문보기 목차검색조회             지구상 면적의 약 70%를 차지하고 있는 바다는 지구 전체 생물종의 약 80%가 서식한다고 알려져 있는 매우 중요한 공간이다. 이 중 공해와 심해저로 구성된 국가관할권 이원지역은 전체 해양 면적의 약 64%를 차지하는 방대한 영역이며 잠재력이 매우 높은 공간이다. 특히 최근에는 해양바이오산업 육성에 대한 관심이 고조되면서 열수분출공과 같은 심해저 특수 지형에서 발견되는 새로운 해양유전자원에 대한 탐사 활동이 활발해지고 있는 상황이다. 하지만 문제는 이렇듯 국가관할권 너머 지역에서의 자원탐사활동이 활발해지는 상황에서 현행 국제 규범이 이에 대한 명확한 규율체계를 제공하고 있지 못한다는 것이다. 해양 전체를 규율하는 대법전이라고 할 수 있는 UN해양법협약에는 해양유전자원에 적용 가능한 명시적인 규범이 존재하지 않는 상태이며 유전자원 전반을 규율하는 생물다양성협약 및 나고야의정서의 경우 그 적용 범위가 관할권 너머까지 미치지 못하고 있다. 게다가 현재 해양법협약상 공해 제도와 심해저 제도는 각각 ‘공해자유의 원칙’과 ‘인류공동유산의 원칙’이라는 양립 불가능한 원칙을 바탕으로 하고 있기 때문에 현행 제도를 해양유전자원에 적용하는 것도 혼란스러운 상황이다. \r",
      "국가관할권 이원지역 해양유전자원의 이용은 고도의 해양과학기술을 필요로 하며 대규모 과학 장비들을 동원하기 때문에 선진국과 개발도상국 간의 불균형 문제, 환경오염문제 등을 고려해볼 때 이에 대한 적절한 규율체계를 마련하는 것이 필수적이다. 따라서 본 논문에서는 해양유전자원에 대한 현행 규율 체계를 살펴본 후 이를 바탕으로 관련 법적 쟁점들을 분석하고, 최신 국제 논의 동향을 파악함으로서 향후 새로운 국제조약이 나아갈 방향에 대한 시사점을 제시하고자 한다.\r",
      "우선 현재 해양유전자원을 규율하고 있는 법적 체계는 생물다양성협약 및 나고야의정서이다. 생물다양성협약은 유전자원에 대한 접근 및 이익공유 체계를 최초로 도입하여 유전자원 전반의 이용과 관련된 선구적인 원칙을 제시하고 있다. 나고야의정서는 이러한 접근 및 이익공유 체계의 구체적인 이행을 위해 존재하며 해당 체계에 대한 더욱 자세한 규율들을 제시한다. 비록 생물다양성협약 및 나고야의정서의 적용 범위가 국가관할권범위 내로 한정되어있어 관할권 이원지역의 해양유전자원에 직접 적용할 수는 없지만 유전자원에 대한 기본 규율체계로서 충분한 분석 가치가 있다. 한편 UN해양법협약의 경우 나고야의정서상의 ‘접근’행위와 매우 유사한 해양과학조사 제도를 운영하고 있다. 관할권 이원지역은 공해 제도와 심해저 제도가 별도로 운영되고 있으며 공해 지역은 ‘공해자유의 원칙’에 따라, 심해저 지역은 ‘인류공동유산의 원칙’에 따라 각각 규율되고 있다. \r",
      "현행 규율을 바탕으로 국가관할권 이원지역 상 해양유전자원의 이용에 대한 법적 쟁점을 두 가지 측면으로 정리할 수 있다. 첫째, 해양유전자원 이용에 대한 규율의 공백 상황이다. 이러한 규율의 공백은 해양유전자원의 개념 및 법적 지위의 불확실성과 해양과학조사 제도 내 생물탐사행위의 포섭가능성에서 발생한다. 현재 해양법협약에는 해양유전자원에 대한 명확한 정의가 제시되어 있지 않으며 ‘공해자유의 원칙’과 ‘인류공동유산의 원칙’의 충돌로 그 법적 지위가 혼란스러운 상황이다. 또한 해양과학조사와 생물탐사행위는 외견상 해양유전자원에 접근하는 동일한 형태를 보이고 있지만 양자의 목적상 양립 불가능하기때문에 생물탐사에 해양과학조사 제도가 적용되기는 힘들다. 두 번째는 현행 유전자원 이용 규율의 확장 적용가능성이다. 현행 유전자원에 대한 접근 및 이익공유 체계는 주권적 권리를 중심으로 한 양자적 접근방식을 취하고 있다. 따라서 특정 국가의 관할권이 존재하지 않는 국가관할권 이원지역의 특성상 이러한 현행 규율에 대한 일부 수정이 필요할 것이다.\r",
      "국제사회는 이러한 법적 쟁점들과 현행 보존 규율의 미비에 대한 인식을 바탕으로 2005년 UN총회 하의 임시작업반을 시작으로 새로운 국제조약을 만들기 위한 준비위원회를 조직하였다. 이후 준비위원회의 권고에 따라 UN해양법협약 하에서 별도의 법적 구속력을 가지는 국제조약의 본격적인 개발을 위해 첫 번째 정부간회의가 개최되었다.\r",
      "본 논문에서는 앞서 언급한 법적 쟁점 및 현행 논의 동향을 바탕으로 향후 국제문서의 발전방향에 대한 세 가지 제언을 제시하고 있다. 첫째, 심해저 생물자원의 법적 지위 확립이다. 새로운 조약 형성의 목적을 위해서 심해저 생물자원에 ‘인류공동유산의 원칙’을 도입할 필요가 있으며 공해상 해양유전자원의 법적 지위도 일부 수정이 필요하다. 둘째, 생물탐사행위에 대한 명확한 범위 설정이다. 생물탐사행위는 현행 해양과학조사 제도에 포섭이 불가능하기 때문에 이에 대한 명확한 규율과 함께 해양과학조사와의 구분기준에 대한 설정이 필요하다. 마지막은 주권적 권리 중심의 양자체제에 대한 수정이다. 현행 유전자원에 대한 규율은 주권적 권리를 바탕으로 한 양자체제를 중심으로 하고 있지만 이는 관할권 이원지역에 맞지 않으며 이때 다자체제에 대한 고려가 필요하다. The ocean, which accounts for about 70% of the earth's area, is a very important space where 80% of the entire species of the earth are known to live in. From among these, The areas beyond national jurisdiction consisting of High Seas and the Area is a vast area that accounts for about 64% of the total maritime area and has a very high potential. Especially in recent years, as interest in fostering the marine bio industry has increased, exploration activities for new marine genetic resources found in the special topography of deep seafloor such as hydrothermal vent are becoming more active. However, the problem is that the current international norms do not provide a clear legal regime in the situation where exploration activities in areas beyond the national jurisdiction are active. In case of UN Convention on the Law of the Sea, which can be said as the Supreme law books regulating the whole of the Sea, does not have explicit norms applicable to marine genetic resources. And in case of the Convention on Biological Diversity and the Nagoya Protocol, which regulate the entire genetic resources, their scope of application does not reach the areas beyond national jurisdiction. In addition, since High Seas Regime and the Area Regime are based on two incompatible principles of 'Freedom of the High Seas' and 'Common Heritage of Mankind' according to the Convention on the Law of the Sea, it is also confusing to apply the current system to marine genetic resources.\r",
      "The use of marine genetic resources in the areas beyond national jurisdiction requires a high-level marine science and technology, and as it mobilizes large-scale scientific equipment, it is essential to establish an appropriate legal regime considering the imbalance between developed and developing countries with some environmental pollution problems. Therefore, this study examines the current legal system for marine genetic resources, analyzes related legal issues based on those results, and suggests some implications for future international treaties by understanding the latest international discussion trends.\r",
      "First, it is the Convention on Biodiversity and the Nagoya Protocol that regulate marine genetic resources. The Convention on Biological Diversity suggests pioneering principles related to the use of genetic resources as a whole by introducing advanced Access to genetic resources and Benefit-Sharing system, The Nagoya Protocol exists for the specific implementation of this Access and Benefit-Sharing system, and provides more detailed regime for the system. Although the scope of application of the Convention on Biological Diversity and the Nagoya Protocol is limited within the State’s national jurisdiction, and it can not be directly applied to marine genetic resources in the areas beyond national jurisdiction, it is of analysis value as a basic regime for genetic resources in general. Meanwhile, in case of the United Nations Convention on the Law of the Sea, it operates a Marine Scientific Research system which is very similar to the \"Access\" activity described in the Nagoya Protocol. The areas beyond national jurisdiction are operated separately by High Seas Regime and the Area Regime that are respectively regulated according to the principles of 'freedom of High Seas' and 'Common Heritage of Mankind'.\r",
      "The legal issue about the use of marine genetic resources in the areas beyond national jurisdiction can be summarized in two ways based on the current regime. First, the regime of the use of marine genetic resources is absent at the moment. This absence in the regime arises from the uncertainty of the concept and legal status of marine genetic resources and the possibility of inclusion of Bioprospecting in the Marine Scientific Research system. The current maritime law does not provide a clear definition of marine genetic resources, and its legal status is confused by the conflict between the principles of 'freedom of High Seas' and 'Common Heritage of Mankind'. In addition, although Marine Scientific Research and Bioprospecting activities  look alike in the form of approaching marine genetic resources, but it is difficult to apply Marine Science Research system to Bioprospecting because they are incompatible for each purposes. The second is the possibility of expanding the current rules on the use of genetic resource. The current system of Access and Benefit-Sharing to genetic resources takes a Bilateral Approach based on the State’s sovereign rights. Therefore, due to the nature of the areas beyond national jurisdiction where the jurisdiction of a particular country does not exist, some revisions to this current regime will be necessary.\r",
      "The international community organized a preparatory committee to create a new international treaty based on these legal issues and the awareness of the lack of current conservation regime, starting with the Ad Hoc Working Group under the UN General Assembly in 2005. And then the first intergovernmental conference was held in accordance with the recommendation of the preparatory committee to develop an international legally binding instrument under the United Nations Convention on the Law of the Sea.\r",
      "This study presents three suggestions for future development of an international instrument based on the legal issues mentioned above and current discussions. First, the establishment of legal status of the biological resources of the Area. For the purpose of forming a new treaty, it is necessary to adopt the principle of ‘Common Heritage of Mankind’ to the biological resources of the Area. And the legal status of High Seas on the marine genetic resources also requires a modification. Second, a clear range setting for Bioprospecting is necessary. As Bioprospecting can not be included in the current Marine Scientific Research system, it is necessary to establish clear standards and to set the criteria for classification with Marine Scientific Research. The last is a revision of the Bilateral Approach based on the State’s sovereign rights. The current regime of genetic resources is centered on the Bilateral Approach based on the State’s sovereign rights, but it is not appropriate system for the areas beyond national jurisdiction and necessary to consider the Multilateral System.\n",
      "\n",
      "\n",
      "원문보기\n",
      "\n",
      "\n",
      "목차검색조회\n",
      "\n",
      "\n",
      "6   해양경계획정 이전 권원중첩수역에서의 자원개발과 환경보호  이영주 연세대학교 대학원 2014 국내석사  RANK : 13880191    원문보기  음성듣기             1994년 바다의 헌법이라 불리는 UN해양법협약이 발효되면서 연안국은 200해리의 배타적경제수역와 200해리 이상 350해리 이하의 대륙붕의 자원에 대한 주권적 권리를 보유하게 되었다. 이러한 관할권의 수평적 확대는 지리적으로 바다의 폭이 400해리 또는 700해리보다 좁은 해역에서 권원중첩수역(area of overlapping entitlement)을 많이 만들어냈고 인접국 또는 대항국 간의 경계획정의 필요성이 그 어느 때 보다 커졌다. 그러나 경계획정은 다면적 성격을 가진 복잡한 문제로서 그 합의에 오랜 시간이 걸리거나 불투명한 문제이다. 전 세계의 잠재적 해양경계선 중 절반 이상은 합의되지 못한 채 잠재적 분쟁수역으로 남아있다. 전 세계적으로 자원전쟁의 시대에서 기술의 발전으로 해양자원의 개발가능성이 높아지면서 경계획정에 합의되지 못하는 것은 해양질서의 불안정성을 가져오는 등 점점 더 큰 국제법적 문제를 제기할 것으로 예상된다. 해양경계획정협상에 실패했다고 해서 권원중첩수역이 협력이 없는 잠재적 분쟁수역으로 남아있어서는 안될 것이다. 인접국가와 해양경계의 ‘선’(line)을 그리는 작업(즉 해양경계획정협상)에 진척이 없다 하더라도 다른 협력적 수단을 강구할 필요가 있다. 왜냐하면 그 ‘선을 넘나드는’ 많은 수산물자원과 그 ‘선에 걸쳐’ 부존되어 있는 지하광물자원, 그리고 그 ‘선과 관계없이’ 해류를 따라 이동하는 바닷물이 오염될 경우 그 바닷물을 공유하고 있기 때문이다. 국가들이 권원중첩수역에서 협력하지 못하고 갈등하는 사이에 그들은 그 바다에 있는 수산물자원과 지하광물자원 및 잠재적 자원을 개발 기회를 놓치며 동시에 적절한 해양환경보호가 이루어지지 못하여 장기적인 관점에서 다시 바다가 주는 엄청난 기회를 놓쳐버리는 어리석음을 스스로 범할 수 있다. 따라서 이 글은 해양경계획정의 교착상태(deadlock)에 대한 실제적인 대안(practical solution)으로 UN해양법협약 제 74조 3항과 제 83조 3항에 집중한다. 우선, 동 조항에 대한 해석의 지침이 되는 Gayana v. Suriname 사건의 판결을 검토함으로써 권원중첩수역에서 국가의 의무를 확인하고 일방적인 자원개발이 초래하는 문제점을 보여준다. 다음으로 동 조항에서 국가들에게 최대한 노력을 기울일 의무(shall make every effort)를 부과하고 있는 잠정약정(provisional arrangement)에 대해 자세히 검토한다. 잠정약정은 경계획정 문제 그 자체를 해결하지는 못하지만 실제로 권원중첩수역에서 발생하는 분쟁을 상당히 완화시킬 수 있는, 분쟁의 평화적인 해결방법이다.  대부분의 잠정약정은 권원중첩수역에서의 해양자원개발을 위한 협력인 JDA(Joint Development Agreement)의 형식으로 이루어진다. UN해양법협약 제 73조 3항와 제 83조 3항에 따른 JDA의 체결은 권원중첩수역을 자원개발 ‘금지’ 수역에서 ‘가능’수역으로 전환시키는 효과가 있으며, 연안국의 권리 및 의무의 범위를 명확히 하여 상당한 안정성을 부여하는 효과가 있다. 이 글에서는 남중국해의 2개, 페르시아만의 2개, 동아시아해의 4개, 인도양의 2개, 카리브해의 2개, 대서양의 3개 JDA 즉 총 15개의 JDA의 조문을 분석한다. 한편, UN해양법협약의 포괄적인 환경보호규범과 그 이후 국제법의 점진적 발전으로 새로운 원칙들의 규범적인 발전에도 불구하고, 권원중첩수역은 현실적으로 자원의 남획이나 해양오염의 문제가 효과적으로 규율되지 못하는 환경보호의 사각지대가  될 가능성이 높다. 한편 오늘날 해양자원개발과 해양환경보호는 동시에 추구되어야 하는 동전의 양면 관계이다. 이에 따라 현대국제법의 중요한 원칙으로 자리잡아 가고 있는(구체적인 모습을 드러내며 발전중인) 지속가능한 발전이라는 큰 목표 아래서 해양에서의 자원개발과 경제적 이득을 주요 동기로 하는 JDA 중 최근에 체결된 일부 JDA는 환경 배려적인 규정을 포함시킴으로로서 자원개발과 환경보호의 조화로운 관계(balanced relationship)를 모색하고 있다. 본 논문은 특히 UN해양법협약보다 발전된/진화된 수준의 환경보호규정을 포함하고 있는 JDA인 1989년 티모르갭조약, 2001년 티모르해조약, 2001년 나이지리아-사오톰 JDA, 2003년 가야나-바베이도스JDA에 대해 검토한다. 그러나 한편으로 JDA는 자원의 분배를 해야 한다는 민감한 문제를 수반하는 만큼 그 체결이 어렵고 해양환경보호가 공동의 이해관계를 도출하는 데 상대적으로 수월할 수 있다는 점을 인지하고, 권원중첩수역에서 오늘날 발전되고 있는 원칙인 생태계적 접근법(ecosystem approach)에 기초한  공동보호합의(Joint Protection Agreement, JPA)를 제안한다.  우리나라도 3면이 바다로 둘러 싸여 있음에도 불구하고 3면 모두 인접국과 경계획정을 하지 못하고 권원중첩수역을 가지고 있는 한편, 최근 우리 정부가 CLCS에 관한 해양권원을 주장하는 노력을 포함하여 해양자원의 개발에 박차를 가하고 있다. 결론적으로 본 논문은 앞으로도 계속적으로 해양경계획정협상에 임할 우리나라에게 JDA와 JPA의 유용성과 각각의 협상방향을 제시하였다. 권원중첩수역에서 자원개발과 환경보호에 관한 잠정적인 질서를 수립하고 이를 운용하는 과정에서 한중일 동북아 3국 사이에 신뢰가 보다 구축된다면 경계획정협상에서도 성공의 돌파구가 보이기 시작할 것이다.\n",
      "\n",
      "\n",
      "원문보기\n",
      "\n",
      "\n",
      "음성듣기\n",
      "\n",
      "\n",
      "7   海洋觀光資源開發에 관한 硏究 : 邊山半島를 中心으로  박명엽 경기대학교 대학원 1992 국내석사  RANK : 13880191    원문보기             UNESCO reports that all of the countries will spend more money on the tourism than on the defense in 2000.It is predicted that increased income and time according to the continuous development of economy and society, will produce about 500 million national tourist of our country.Considering that the type of tourism changes from the sightseeing to the activity and that the coast and the sea bottom are paid attention as the objects of tourism, the development policy of the tourism resources must be established in order to develop the territory equably and satisfy the needs about the tourism and leisure activities in lesure time.In consequence, this object is to set the development direction of the coastal tourism resources which will function as space of the tourism demand, around BYUN SAN BAN DO.To achieve this goal, the requirements are as follows.The first, the results of the observation on the concepts of the coastal tourism resources and the domestic and foreign studies' trend, are taken as criteria of the analysis.The second, according to the analysis of the development situation of BYUN SAN BAN DO and of the coastal tourism resources of our country, the results of the understanding the problems are taken as the standards of the alternatives.The third, on the basis of the results of the analysis of relevant group' views on the development of BYUN SAN BAN DO, the development direction of the coastal tourism resources is offered.In this study, the time limit is the goal year of 2001 and the space limit is the region of BYUN SAN BAN DO.The methods of this study are book research and questionnaires.In chapter 2, the concept and characteristics of the development of the coastal tourism resources are prescribed and the domestic and foreign study tend of the development of the coastal tourism resources are observed.In chapter 3. the period of the development of the coastal tourism resources are divided into 60' the quickening period, 70' growing period, 80' maturing period, and then through the analysis of the development situation of the coastal tourism resources and the region of BYUN SAN BAN DO the problems are presented; the probems of the development, the preservation, the use and the management of the tourism resources, and of the tourism routes.In chapter 4, according to the result data of the questionnaires on the coastal tourism resources of BYUN SAN BAN DO, the consciousness of tourism of the local residents is analyzed by SPSS, and then on the basis of the analysis results the development direction of the coastal tourism resources are presented.In chapter 5, the alternatives are offered in order to establish the goals of the development of coastal tourism resources and to achieve these goals.The goals are to enhance the quality of life of local residents and to realize the social balance.The alternatives is order to achieve these goals are as follows.The first, the development direction of the resources which connect the tourism product of summeras the coastal tourism resources and the local culture remains, is presented.The second, the comprehensive development direction of the tourism resources by developing the type of the training the youth and the health-care tourism village, is presented.The third, the alternative in which the coastal resources and mountain resources are harmonized by developing the tourism route connecting the outside o f BYUN SAN BAN DO and the inside of BYUN SAN BAN DO, is offered.The fourth, the alternative which lead the paticipation of the local residents, the development of the tourism resources and the development of the local culture, is offered.The region of BYUN SAN BAN DO is in the undeveloped state because of the developing the resources of BYUN SAN BAN DO, this region will have a good condition of location by which the region of BYUN SAN BAN DO will be a representative place of west and south castal tourism resources as a important position of tourism of JEONRA BUKDO, and will be spotlighted as a important place of the international coastal tourism route by way of preparation for the open-door of the tourism of the CHINA.The prensented direction in which the development of the tourism products of summer and the local culture remains are connected, requires concrete following studies.And further studies in which the tangible programs about the development of the tourism resources as the type of training the youth and as the health-care tourism village are offered, and in which the alternative connecting the outside of BYUN SAN BAN DO and inside of BYUN SAN BAN DO and the concrete alternative of the route development of the local tourism, are required.\n",
      "\n",
      "\n",
      "원문보기\n",
      "\n",
      "\n",
      "8   해양관광 자원 개발에 대한 연구 : 중국 칭다오와 부산을 중심으로  장잉잉 경기대학교 대학원 2019 국내석사  RANK : 13880191    원문보기 목차검색조회  음성듣기             21세기는 해양 경제 시대이므로 해양산업은 세계 각국에서 중요시하고 있다. 특히 연해 국가들은 해양석유, 해양공사, 해양관광을 3대 해양산업을 해양경제의 새로운 경제 산업으로 생각하면서 해양관광이 점차 많은 사람들의 주목을 받으면서 새로운 관광활동중의 하나라고 볼 수 있다.\r",
      "해양관광자원의 개발은 해양관광의 수요와 공급 간의 조화로서 각종 편익효과제고를 추구하는데 기분목적을 두고 있으며, 이러한 기본 목적의 구체적 내용은 지역 또는 국가의 균현 있는 경제발전을 도모하고, 궁극적으로 총체적 사회편익의 극대화하는데 있다.\r",
      "이론적 고찰을 통하여 해양관광자원과 해양관광자원의 개발을 제시하고 해양관광자원 개벌의 유용성을 제시하고자 한다.  중국 칭다오 해양관광 자원 개발에 대한 현황을 분석하고자 하고 한국의 부산 해양 관광 자원 개발의 현황과 분석 한다.이를 바탕으로 칭다오와 부산 해양관광자원 개발의 문제점을 제기하고 이를 해결하기 위한 방안으로 해양관광 자원 개발에 대한 개선 방안 제시 한다.\r",
      "본 연구는 기존연구에 기존의 해양관광 자원 현황, 지금 까지 연구된 일부 학술 및 연구보고서, 홈페이지, 뉴스, 현지발표 내용 각종 문헌과 연구논문을 참고하여 자료를 수집, 분석에 따라서 실태 조사로 관광자원의 발전을 연구하였다. 그리고 본 연구에서 부산과 칭다오를 비교 연구해서 다양한 통계 자료와 지방자지단체의 자료를 통하여 칭다오의 해양자원 발전의 문제를 분석하고 구체적인 개선방안을 제시하는 바이다.\r",
      "중국은 해양관광의 발전을 중시하면서 정부가 해양산업 크게 발전이라고 제시하다. 중국의 해양산업은 늦게 시작 하지만 최근 몇 년 동안 발전을 신속한다. 발해 연안의 친황다오, 황해연안의 ,칭다오와 다롄 옌타이, 롄윈강 등, 동해연안의 푸퉈구와 샤먼, 남해 연안북해와 선전 등을 포함하다. 이들 도시에서 칭다오의 해양관광의 자원조건, 발전규모, 발전전도를 대표적인 갖추고 있고 학계의 인기를 끌어오고 있어 이 글도 칭다오로 중국의 해양관광 자원의 연구를 선택 한다.\r",
      "부산은 한국의 동남쪽에 위치라고 한국의 제2위 도시하고  가장 큰 국제항구 도시이다. 부산은 한국에서 가장 큰 해수욕장 있고 국제적인 해변공원 그리고 많은 고찰이나 온천도 있어서 한국의 성공한 해양관광 도시를 된다. 칭다오 및 부산 대표적인 해양관광 도시로 공동적과 차이성 두 가지 특성을 가지고 있다. \r",
      "관광객의 현재 중국의 해양관광을 관련된 분야 연구를 상대적으로 작아서 국가가 거시적 전략을 마련하도록 할 때 효율적으로 수치를 부족하다. 따라서 국가는 해양관광에 대한 중시하는 배경으로 해양관광의 연구를 중요한 의미가 있어서 분 연구는 중국 칭다오와 한국 부산 두 도시대한 해양관광 발전방향을제시하는 데에 연구목적이 있다.\r",
      "칭다오 관광자원은 빠르게 발전에 동시 문제가 발생하다. 칭다오는 연해 관광사업 발전 전략을 실시해서 칭다오 경제를 크게 늘리고 있다. 반면에 개발 속도 지나치게 빠른 발전하며 관광개발의 품질을 중시해야 하다. 그래서 한 지역 지중 하지 않게 다른 지역에서 관광개발 해야 한다 관광지로서 합리적인 질서 관리 제도를 생명력을 유지하도록 지속적인 개발 가능성을 증강할 수 있다.해양환경은 해양관광자원의 보호 및 지속 가능한 발전을 위해 사람들의 자원보호 의식을 근본적으로 높은 출현 가능성이 있는 각종 에너지 위기를 필 할 수 있다. \r",
      "부산에서 관광하면 전문 기관을 없으니까 관광사업 세분화 부족해서 관광 개발하는 것이 어렵다. 그해서 개발 조직의 적정화 관리 감독을 강화할 필요가 있다. 부산관광 상품을 지금 판축 활동을 부족하고 마케팅 및 홍보 수단을 단일화 관광객들에게 흡인력을 부족하다. 다른 홍보 수단을 도 활성하고 다양한 국제 관광 대회 적극적인 자세를 열린 다산 관광 자원을 풍부하지만 인공시설과 관리인원을 부족 하다.처음 질문 발은 사람이 성실하게 해결해주는 업무 책임제의 실시는 기관의 서비스의식을 강화하고 업무의 효율을 높이 서비스의 질을 보장라고 발전 환경을 개선하는 중요한 의의를 지니고 있다. A marine economic importance in the marine industry is around the world since it is the time the 21st century. The ocean three marine construction, marine tourism, offshore oil industry are maritime nations in particular maritime economy as a new Minister of Economy, Trade and Industry to thinking of Marine Tourism is a lot of people with new tourism activities can be seen as one of the attention\r",
      ".Under the current Marine Tourism in China tourists related to macro strategy is a relatively small country the field level efficiently when scarce.Therefore, the nation for marine tourism of Marine Tourism as a background study, which is Qingdao, China, so you research is important and two cities, Busan, Korea.The research aims to provide the Development of Marine Tourism.\r",
      "The development of tourist resources, ocean marine tourism as harmony between supply and demand of the beneficial effect of pursuit marine resources through the tourist resources to provide the utility of the clear felling. Qingdao, China Marine Tourism Resource Development of basic aim of these purposes, and a feeling.Details of the region or country gyunhyeon to promote economic development and, ultimately, to intensification of the All social benefits.\r",
      "  Theoretical Research on the Marine Tourism resources and marine tourism and the development of to analyze the current status for the current status of the Marine Tourism Resources Development, Busan, Korea and analysis. \r",
      "  This raises problems of Qingdao and Busan Marine resources based on the development and tourism resource development for the Improvement of the ocean as a way to resolve the present. This study existing conventional ocean sightseeing resources, until now, in various literature and some academic studies and research reports, news, news, local announcements. \r",
      "  Using the guidelines on investigation into the development of tourist resources, according to data collection, analysis and study.And in this study, Busan, Korea and Qingdao and compare the various statistics and local groups not sleep in Qingdao, through its data to analyze problems and of the development of marine resources.Concrete improvement plan.\n",
      "\n",
      "\n",
      "원문보기\n",
      "\n",
      "\n",
      "목차검색조회\n",
      "\n",
      "\n",
      "음성듣기\n",
      "\n",
      "\n",
      "9   GIS기반 해양광물자원정보시스템 개발에 관한 연구  김동일 인하대학교 대학원 2013 국내석사  RANK : 13880190    원문보기 목차검색조회  음성듣기             최근 전 세계적으로 석탄, 석유 등 육상자원의 고갈로 인하여 해양광물자원에 대한 관심이 증가하고 있다. 특히 광물자원의 해외 의존도가 높은 우리나라에서도 한반도 주변 해역의 해양광물자원을 확보하기 위한 탐사와 연구를 진행하고 있으며, 이를 통해 매년 방대한 양의 자료가 생성되고 있다. 그러나 오랜 기간 탐사를 통해 축적된 방대한 양의 탐사자료는 관리와 활용 체계의 부재로 인해 체계적인 관리가 이루어지고 있지 않으며 이로 인해 자료의 중복 구축 및 분실과 자료 활용도를 낮추고 있는 실정이다.이러한 배경에서 본 연구에서는 해양탐사자료를 데이터베이스로 구축하고 GIS기반의 관리시스템을 개발하여 매년 생산되는 해양탐사자료의 체계적인 관리와 효율적인 활용에 대한 연구를 진행하였다. 이를 위해 전문가 면담을 통해 해양탐사자료의 관리를 위한 자료 항목 정의와 해양탐사자료 표출 기능을 정의하였다. 정의된 내용을 기반으로 한반도 주변해역에서 탐사를 통해 생성된 해양탐사자료를 수집하고 도형자료와 속성자료로 분류하였으며, 설계를 통해 데이터베이스에 구축하였다. 또한, 본 연구에서는 해양탐사자료가 구축된 데이터베이스의 효율적인 활용을 위해 해양탐사자료의 시각적 표출을 지원하는 GIS기반의 해양광물자원정보시스템을 설계하고 개발하였다. 해양광물자원정보시스템에서는 도형자료와 속성자료의 조회와 3차원 표출 등을 지원하여 다양한 방법의 해양탐사자료 활용을 위한 연구를 진행하였다. 본 연구를 통해 구축된 해양탐사자료 데이터베이스는 오랜 기간 동안 생성되고 축적되었지만 제대로 관리되지 않던 해양탐사자료를 총괄적으로 관리하게 함으로써 해양광물자원 연구 수행 시 자료의 소재 파악이 쉽고 중복 구축을 최소화하여 시간적, 비용적 측면에서 효율적이며, 향후 생성되는 탐사자료의 효율적인 갱신을 지원할 것으로 기대된다. 또한, GIS기반 해양광물자원정보시스템 개발을 통해 해양탐사자료의 위치를 시각적으로 확인함으로써 해양광물자원의 확보를 위한 보다 정확한 탐사와 연구가 가능할 것으로 기대된다.\n",
      "\n",
      "\n",
      "원문보기\n",
      "\n",
      "\n",
      "목차검색조회\n",
      "\n",
      "\n",
      "음성듣기\n",
      "\n",
      "\n",
      "10   국가관할권이원지역 해양생물자원의 이용과 규율 : UN해양법협약 원칙의 확장적 적용가능성을 중심으로  서진웅 성균관대학교 2018 국내박사  RANK : 13880190    원문보기 목차검색조회  음성듣기             본고는 국가관할권이원지역의 해양생물자원의 이용과 규율을 중심으로 검토하였다. 본고의 대상인 국가관할권이원지역은 그 의미에 관하여 국제적으로 합의된 개념이 존재하지 않는다. 다만 국제법 전체 영역 중 UN해양법협약의 규범적 체제 하에서는 공해와 심해저를 포괄하는 개념으로 이해되고 있음에는 이론이 없다. 그러나 국가관할권이원지역의 개념 내지 규율원칙에 대한 학자들의 이해와 각국의 입장은 다층적 스펙트럼으로 존재한다. \r",
      "   국가관할권이원지역에 관한 입장의 차이는 기본적으로 UN해양법협약이 국가관할권 한계 밖의 지역을 공해와 심해저로 양분하여 각 지역의 물적 범위와 적용원칙을 이원적으로 규정한 점에서 기인한다. 공해자유원칙에 입각한 레짐을 강조하는 입장과 인류공동유산원칙에 입각한 레짐을 강조하는 입장 간의 대립이 존재하며, 두 적용원칙 간의 이질성은 그 간격을 극복할 수 없을 만큼 양극단에 있다. \r",
      "   국가관할권이원지역에 대한 입장차이는 심해저레짐의 도입 이후 시작되었으며, 심해저레짐의 규율원칙으로 받아들여지는 인류공동유산원칙의 국가관할권 한계 밖 전체 지역으로의 확장 요구가 이 문제의 핵심이다. \r",
      "   그러나 인류공동유산원칙이 무엇인가에 관하여서도 모호성이 남아있다. 인류공동유산은 심해저레짐에서는 이익공유를 포함하는 개념으로 받아들여지지만, FAO에서 식물유전자원에 관하여 논의될 당시에는 자유접근을 포함하는 개념으로 받아들여지기도 하였다. 인류공동유산개념은 전통적인 법원칙에 대한 안티테제로 제안된 개념으로서, 그 개념조차 모호한 상태에 있으며, 그 법적 내용도 광물자원의 이용과 이를 통한 이익의 배분을 제외하고는 규정되어 있지 못하다.\r",
      "   이와 함께, UN해양법협약의 규율체계 하에서 심해저는 지리적 개념으로서 공해의 일부이며, 심해저레짐은 심해저지역의 광물자원에 대한 특별레짐으로서 작용하고 있다. 반면에 UN해양법협약의 국가관할권 한계 밖 지역에 있어서 공해레짐이 일반레짐으로 이해되어야 함이 타당하다. 이에 따라서 국가관할권 한계 밖의 전체 지역을 포괄하는 국가관할권이원지역 레짐의 규율원칙은 공해자유원칙이어야 한다. 즉 현행 UN해양법협약 상 국가관할권이원지역에 관한 공백이 존재하는 것이 아니며, 다만, 명문의 규정으로 심해저레짐과 공해레짐 간의 관계가 확립되어 있지 않은 것이 규정상의 한계일 뿐이다. \r",
      "   해양생물자원의 이용에 관한 규율의 제도적 체계는 이와 유사한 물적 범위를 규율하고 있는 UN해양법협약의 제도적 체계와 생물다양성협약 및 동 협약의 의정서인 유전자원 이용에 관한 나고야의정서 상의 제도적 체계가 비교검토 가능한 현행 레짐에 해당한다. 그러나 생물다양성협약과 나고야의정서는 본질적으로 국가관할권이원지역에 적용 가능한 체제와 그 기초가 동등하지 않다. 생물다양성협약의 체제는 기본적으로 영토주의에 기초하고 있으며, 유전자원에의 접근 및 이의 이익공유를 유전자원의 제공국과 이용국 양국 간의 상호 합의된 조건에 따르도록 규율하는 체제이다. 반면에 국가관할권이원지역은 특정국가에 관할권이 인정되지 않는 본질적인 차이가 존재한다. 이로 인하여 국가관할권이원지역의 제도적 체계 규정 시 생물다양성협약의 체제는 참고대상이 될 수는 있으나, 이 체제에 포함된 특유의 법적 기초 내지 권리․의무적 기초는 그대로 수용될 수는 없다. 결과적으로 해양생물자원의 이용에 관한 규율의 제도적 기초는 UN해양법협약을 모범으로 하여 설정되어야 한다. UN해양법협약 상의 규율원칙을 계승하되, 명시적인 규정이 불충분한 해양유전자원을 포함하는 해양생물자원의 직접적 규율규정을 포함하여야 하며, 공해레짐과 심해저레짐 간의 관계를 명확히 규정하여야 하며, UN해양법협약의 제 규정들을 저해하지 않는 한도 내에서 UN해양법협약을 발전적으로 계승하여야 한다. \r",
      "   국가관할권이원지역의 규율체제는 UN해양법협약의 규범적 체제 하에서 규정화 되어야 하지만, 선진국과 개발도상국이 모두 참여 가능한 방식으로 새로운 체제가 초안되어야 그 실효성이 담보될 수 있다. 이를 위하여서는 개발도상국가들과 선진국들의 타협이 필수불가결하다. \r",
      "   따라서 본고는 결과적으로 다음을 제안하고자 한다. 첫째, 국가관할권이원지역은 UN해양법협약의 체제에 따라서 공해자유원칙에 입각하여야 한다. 둘째, 개발도상국가들은 해양유전자원에 대한 보전 가능한 수준으로 제한된 자유로운 접근을 저해하지 않아야 한다. 셋째, 선진국들은 개발도상국가들의 필요에 대한 배려의 측면으로서, 개발도상국의 해양유전자원에 대한 접근 및 사용능력을 배양에 기여할 수 있는 일정수준의 이익공유의 보장을 포함하여야 한다. \r",
      "   새로운 국가관할권이원지역체제의 도입의 성패는 선진국과 개발도상국이 모두 참여가능한 방식으로 새로운 체제가 도입되느냐에 달려 있다. 선진국이나 개발도상국 중 어느 일방 집단에 유리한 방식으로 도입되는 경우에는 일방만의 ‘그들만의 리그’로 전락할 수 있으며, 또다시 해양법 전반의 질서를 파편화할 뿐임에 유의하여야 한다. This dissertation deals with Use and Guiding Principle of Marine Living Resources of Areas Beyond National Jurisdiction (ABNJ) focused on the Law of the Sea. The concept of the ABNJ is not internationally agreed yet. Nevertheless, there is no objection that the ABNJ covers the High Seas and the Area under the normative system of United Nations Convention on the Law of the Sea(UNCLOS) on the whole of international law; however, there are various understanding of scholars and states to the concept of the ABNJ and the guiding principle as multi-layered spectrum.\r",
      "  These differences in stances regarding the ABNJ are basically due to the fact that the UNCLOS divides areas beyond the limits of national jurisdiction into two categories: the High Seas and the Area; and it stipulates duality of the scope and guiding principle of each part. There are confrontations between the position placing an emphasis on the regime based on the principle of freedom of the High Seas and the stance based on the Common Heritage of Mankind; The heterogeneity between the two guiding principles is at the extremes of the gap.\r",
      "   The confrontations to the ABNJ has began after the introduction of the Area regime under the UNCLOS. And the demand for the extension of the principle of Common Heritage of Mankind, which is accepted as a guiding principle of the Area regime, to the whole ABNJ is at the core of this issue. Not so clear, however, is the concept of the principle of Common Heritage of Mankind.The common heritage of mankind is accepted as a concept that includes benefit sharing in the Area regime, however, as a concept that included free access regime when discussed in FAO about plant genetic resources. The concept of common heritage of mankind is proposed as an antithesis to the traditional law principle; Even the concept is ambiguous and its legal contents are not stipulated except the use of mineral resources and the benefit sharing derived from mineral resources. \r",
      "   At the same time, under the rules of the UNCLOS, the Area is part of the High Seas as a geographical concept, and the Area regime acts as a special regime for mineral resources in the Area; on the other hand, it is reasonable that the High Seas regime should be understood as a general regime in the areas beyond the limits of national jurisdiction of the UNCLOS. Accordingly, the guiding principle of the ABNJ covering the entire areas beyond the limits of national jurisdiction should be the principle of freedom of the High Seas. In other words, current UNCLOS does not have a vacuum about the ABNJ, but there is only a regulatory limitation that does not stipulate the relationship between the High Seas regime and the Area regime. \r",
      "   The institutional framework for the use of marine living resources would be comparable to the institutional framework of the UNCLOS and the institutional framework of the Convention on Biological Diversity(CBD) and Nagoya Protocol on Access to Genetic Resources and the Fair and Equitable Sharing of Benefits Arising from their Utilization to the CBD; however, the CBD and the Nagoya Protocol are not fundamentally equal in the legal nature to those applicable institutional framework for ABNJ. The framework of the CBD and the Nagoya Protocol are fundamentally based on territorial sovereignty and regulates access to genetic resources and benefit sharing in accordance with mutually agreed terms between the providing state and the using state; whereas, there are inherent differences of the ABNJ in the way that jurisdiction is not authorized in a particular country. For this reason, the institutional system of the CBD and the Nagoya Protocol can be a reference when framework of the ABNJ is regulated; however, it should not be acceptable the specific legal basis or mandatory basis contained in the CBD and the Nagoya Protocol. As a result, the institutional basis of the rules regarding the use of marine living resources should be set as a model of the UNCLOS. So, it should include the direct regulating provisions to marine living resources including marine genetic resources, and clearly define the relationship between the High Seas regime and the Area regime; At the same time, it is necessary to succeed progressively to the UNCLOS, without prejudice to the provisions of the UNCLOS.\r",
      "   The ABNJ regime should be regulated under the normative system of the UNCLOS, but to guarantee its effectiveness, a new system should be drafted in such a way that both developed and developing countries can participate. Compromise between developing countries and developed countries is indispensable for this.\r",
      "   Therefore, this dissertation proposes the following as a result. Firstly, ABNJ regime should be based on the principle of freedom of the High Seas in accordance with the UNCLOS. Secondly, developing countries should not hamper the free access to limited conservative level of marine genetic resources. Thirdly, developed countries should ensure a certain level of benefit sharing that can contribute to access and capacity-building of marine genetic resources as a consideration of the needs of developing countries.\r",
      "   The success or failure in introducing new ABNJ regime depends on whether the new regime is being adopted in a way that is open to both developed and developing countries: both countries can participate or not. It should be noted that they could fall into 'league of their own' and it could be fragmented the order of the Law of the sea again, if it is adopted in an favorable manner for either developed or developing countries.\n",
      "\n",
      "\n",
      "원문보기\n",
      "\n",
      "\n",
      "목차검색조회\n",
      "\n",
      "\n",
      "음성듣기\n",
      "\n",
      "\n"
     ]
    }
   ],
   "source": [
    "#Step 6.Beautiful Soup 로 본문 내용만 추출하기\n",
    "from bs4 import BeautifulSoup\n",
    "html_1 = driver.page_source #현재 페이지의 전체 소스코드를 다 가져오기\n",
    "soup_1 = BeautifulSoup(html_1, 'html.parser')\n",
    "\n",
    "content_1 = soup_1.find('div','srchResultListW').find_all('li')\n",
    "for i in content_1 :\n",
    "    print(i.get_text().replace(\"\\n\",\" \").strip())\n",
    "    print(\"\\n\")"
   ]
  },
  {
   "cell_type": "code",
   "execution_count": 5,
   "metadata": {},
   "outputs": [
    {
     "name": "stdout",
     "output_type": "stream",
     "text": [
      "결과를 저장할 파일명을 쓰세요(예: c:\\py_temp\\riss.txt): c:\\\\py_temp\\\\riss.kr.txt\n",
      "요청하신 데이터 수집 작업이 정상적으로 완료되었습니다\n",
      "수집된 결과는 c:\\\\py_temp\\\\riss.kr.txt 에 저장되었습니다\n"
     ]
    }
   ],
   "source": [
    "#Step 7. 표준 출력 방향을 바꾸어 txt 파일에 저장하기\n",
    "import sys \n",
    "f_name = input('결과를 저장할 파일명을 쓰세요(예: c:\\\\py_temp\\\\riss.txt): ')\n",
    "\n",
    "orig_stdout = sys.stdout\n",
    "file = open(f_name , 'a' , encoding='UTF-8')\n",
    "sys.stdout = file  #모니터에 출력하지 말고 file 에 출력해라\n",
    "\n",
    "for i in content_1 :\n",
    "    print(i.get_text().replace(\"\\n\",\"\"))\n",
    "\n",
    "file.close()    \n",
    "sys.stdout = orig_stdout  #원래대로 변경 - 다시 화면에 출력시켜라    \n",
    "\n",
    "print('요청하신 데이터 수집 작업이 정상적으로 완료되었습니다')\n",
    "print('수집된 결과는 %s 에 저장되었습니다' %f_name)"
   ]
  },
  {
   "cell_type": "code",
   "execution_count": null,
   "metadata": {},
   "outputs": [],
   "source": []
  }
 ],
 "metadata": {
  "kernelspec": {
   "display_name": "Python 3 (ipykernel)",
   "language": "python",
   "name": "python3"
  },
  "language_info": {
   "codemirror_mode": {
    "name": "ipython",
    "version": 3
   },
   "file_extension": ".py",
   "mimetype": "text/x-python",
   "name": "python",
   "nbconvert_exporter": "python",
   "pygments_lexer": "ipython3",
   "version": "3.8.0"
  }
 },
 "nbformat": 4,
 "nbformat_minor": 2
}
